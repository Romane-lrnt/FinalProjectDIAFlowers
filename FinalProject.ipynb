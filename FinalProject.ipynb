{
 "cells": [
  {
   "cell_type": "code",
   "execution_count": 2,
   "id": "8c22829d-4611-46c8-9dc3-803e2be0b8e1",
   "metadata": {},
   "outputs": [],
   "source": [
    "import pandas as pd\n",
    "import numpy as np\n",
    "import torch"
   ]
  },
  {
   "cell_type": "code",
   "execution_count": 3,
   "id": "b717859c-f471-4ae3-aac2-0436ce0f7fe5",
   "metadata": {},
   "outputs": [],
   "source": [
    "import torch.nn as nn\n",
    "import torch.nn.functional as F"
   ]
  },
  {
   "cell_type": "code",
   "execution_count": 4,
   "id": "feb37c64-4845-4c80-819c-557e7089d240",
   "metadata": {},
   "outputs": [],
   "source": [
    "from sklearn.model_selection import train_test_split, StratifiedKFold\n",
    "from sklearn.metrics import accuracy_score, confusion_matrix, classification_report\n",
    "import matplotlib.pyplot as plt\n",
    "\n",
    "%matplotlib inline"
   ]
  },
  {
   "cell_type": "code",
   "execution_count": 5,
   "id": "7782e3e8-ce7d-4905-8e1b-1b692d18679d",
   "metadata": {},
   "outputs": [],
   "source": [
    "import os"
   ]
  },
  {
   "cell_type": "code",
   "execution_count": 9,
   "id": "879d0a6d-6c45-410d-b808-ee77a4d2c809",
   "metadata": {},
   "outputs": [],
   "source": [
    "path = 'C:/Users/User/OneDrive - De Vinci/A3/Dorset College/Data Science and AI/FinalProjectFlowers/flower_images/'"
   ]
  },
  {
   "cell_type": "code",
   "execution_count": 7,
   "id": "cca54e6a-1d95-4791-8b1e-d12540bb64d2",
   "metadata": {},
   "outputs": [],
   "source": [
    "map = {\n",
    "    'Lilly':[1,0,0,0,0],\n",
    "    'Lotus':[0,1,0,0,0],\n",
    "    'Orchid':[0,0,1,0,0],\n",
    "    'Sunflower':[0,0,0,1,0],\n",
    "    'Tulip':[0,0,0,0,1]\n",
    "}"
   ]
  },
  {
   "cell_type": "code",
   "execution_count": 10,
   "id": "1a5ed249-410b-43a8-9173-ac6dd1f9540c",
   "metadata": {},
   "outputs": [],
   "source": [
    "data = []\n",
    "flowertype = []\n",
    "\n",
    "for c in os.listdir(path):\n",
    "    for f in os.listdir(path+c):\n",
    "        data.append(f)\n",
    "        flowertype.append(c)"
   ]
  },
  {
   "cell_type": "code",
   "execution_count": 11,
   "id": "786679a8-5303-41c5-9138-7b9ca5d3d69e",
   "metadata": {},
   "outputs": [],
   "source": [
    "X_train, X_test, y_train, y_test = train_test_split(data, flowertype, test_size=0.2, random_state=41,\n",
    "                           shuffle=True, stratify=flowertype)"
   ]
  },
  {
   "cell_type": "code",
   "execution_count": null,
   "id": "8dca0242-8e9b-432d-a9c8-85af40b2924c",
   "metadata": {},
   "outputs": [],
   "source": []
  }
 ],
 "metadata": {
  "kernelspec": {
   "display_name": "Python 3 (ipykernel)",
   "language": "python",
   "name": "python3"
  },
  "language_info": {
   "codemirror_mode": {
    "name": "ipython",
    "version": 3
   },
   "file_extension": ".py",
   "mimetype": "text/x-python",
   "name": "python",
   "nbconvert_exporter": "python",
   "pygments_lexer": "ipython3",
   "version": "3.8.17"
  }
 },
 "nbformat": 4,
 "nbformat_minor": 5
}
